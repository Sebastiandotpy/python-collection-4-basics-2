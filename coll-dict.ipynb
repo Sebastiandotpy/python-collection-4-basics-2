{
 "cells": [
  {
   "cell_type": "code",
   "execution_count": 1,
   "metadata": {},
   "outputs": [
    {
     "name": "stdout",
     "output_type": "stream",
     "text": [
      "Bart Simpson, 742 Evergreen Terrace\n"
     ]
    }
   ],
   "source": [
    "# Task 1 + 2\n",
    "\n",
    "person = {}\n",
    "\n",
    "# Add two key-value pairs to the \"person dictionary\"\n",
    "person[\"name\"] = \"Bart Simpson\"\n",
    "person[\"address\"] = \"742 Evergreen Terrace\"\n",
    "\n",
    "# access the value of the \"name\" and \"address\" keys in the \"person\" dictionary\n",
    "name = person [\"name\"]\n",
    "address = person [\"address\"]\n",
    "\n",
    "print(name + \", \" + address)"
   ]
  },
  {
   "cell_type": "code",
   "execution_count": 2,
   "metadata": {},
   "outputs": [
    {
     "name": "stdout",
     "output_type": "stream",
     "text": [
      "Peter is 36 years old\n",
      "Robin is 29 years old\n",
      "Michael is 33 years old\n"
     ]
    }
   ],
   "source": [
    "# Task 3\n",
    "from typing import Dict\n",
    "\n",
    "def print_person_ages(age_dict: Dict[str, int]) -> None:\n",
    "    \"\"\"Prints each person's name and age from a dictionary in the format \"name is age years old\"\n",
    "    \n",
    "    Args: \n",
    "    age_dict (dict): a dictionary with name (str) as key and age (int) as value\n",
    "    \"\"\"\n",
    "\n",
    "    # Loop through the dictionary and print each person's name and age \n",
    "    for name, age in age_dict.items():\n",
    "        print(f\"{name} is {age} years old\")\n",
    "\n",
    "# Create the age dictionary using a dictionary comprehension\n",
    "person_ages = {name: age for name, age in [(\"Peter\", 36), (\"Robin\", 29), (\"Michael\", 33)]}\n",
    "\n",
    "# Call the print_person_ages function with the age dictionary\n",
    "print_person_ages(person_ages)\n",
    "    \n",
    "\n",
    "    "
   ]
  },
  {
   "cell_type": "code",
   "execution_count": 5,
   "metadata": {},
   "outputs": [
    {
     "name": "stdout",
     "output_type": "stream",
     "text": [
      "Original dictionary:\n",
      "{'Alligator': 10, 'Tiger': 5, 'Parrot': 2, 'Hamster': 1, 'Dolphin': 5}\n",
      "\n",
      "New dictionary:\n",
      "{'Parrot': 2, 'Dolphin': 5}\n"
     ]
    }
   ],
   "source": [
    "# Task 4\n",
    "import random\n",
    "from typing import Dict\n",
    "\n",
    "def remove_keys_ending_with_r(dictionary: Dict[str, int]) -> Dict[str, int]:\n",
    "    \"\"\"Removes all keys in a dictionary that end with the letter 'r'\n",
    "    \n",
    "    Args:\n",
    "        dictionary (dict): a dictionary with string keys and integer values\n",
    "    \n",
    "    Returns:\n",
    "        A new dictionary with all keys that end with the letter 'r' removed\n",
    "    \"\"\"\n",
    "    new_dict = {key: value for key, value in dictionary.items() if not key.endswith('r')}\n",
    "    return new_dict\n",
    "\n",
    "def main():\n",
    "    # Create a dictionary with animal names as keys and random numbers as values\n",
    "    animals = {'Alligator': random.randint(1, 10),\n",
    "               'Tiger': random.randint(1, 10),\n",
    "               'Parrot': random.randint(1, 10),\n",
    "               'Hamster': random.randint(1, 10),\n",
    "               'Dolphin': random.randint(1, 10)}\n",
    "    \n",
    "    # Print the original dictionary\n",
    "    print(\"Original dictionary:\")\n",
    "    print(animals)\n",
    "    \n",
    "    # Remove keys ending with 'r'\n",
    "    new_animals = remove_keys_ending_with_r(animals)\n",
    "    \n",
    "    # Print the new dictionary\n",
    "    print(\"\\nNew dictionary:\")\n",
    "    print(new_animals)\n",
    "\n",
    "if __name__ == '__main__':\n",
    "    main()\n"
   ]
  },
  {
   "cell_type": "code",
   "execution_count": 6,
   "metadata": {},
   "outputs": [
    {
     "name": "stdout",
     "output_type": "stream",
     "text": [
      "+1: New York\n",
      "+44: London\n",
      "+81: Tokyo\n",
      "+86: Beijing\n",
      "+91: New Delhi\n"
     ]
    }
   ],
   "source": [
    "dial_codes = {\n",
    "    '+1': 'New York',\n",
    "    '+44': 'London',\n",
    "    '+81': 'Tokyo',\n",
    "    '+86': 'Beijing',\n",
    "    '+91': 'New Delhi'\n",
    "}\n",
    "\n",
    "cities = {dial_codes [code]: code for code in dial_codes}\n",
    "for city, code in dial_codes.items():\n",
    "    print(city + \": \" + code)"
   ]
  },
  {
   "cell_type": "code",
   "execution_count": 12,
   "metadata": {},
   "outputs": [
    {
     "data": {
      "text/plain": [
       "[(0, 'A'), (1, 'B'), (2, 'C')]"
      ]
     },
     "execution_count": 12,
     "metadata": {},
     "output_type": "execute_result"
    }
   ],
   "source": [
    "list(zip(range(3), 'ABC'))"
   ]
  },
  {
   "cell_type": "code",
   "execution_count": 13,
   "metadata": {},
   "outputs": [
    {
     "data": {
      "text/plain": [
       "[(0, 'A', 0.0), (1, 'B', 1.1), (2, 'C', 2.2)]"
      ]
     },
     "execution_count": 13,
     "metadata": {},
     "output_type": "execute_result"
    }
   ],
   "source": [
    "list(zip(range(3), 'ABC', [0.0, 1.1, 2.2, 3.3])) # creates an hidden error?"
   ]
  },
  {
   "cell_type": "code",
   "execution_count": 14,
   "metadata": {},
   "outputs": [
    {
     "data": {
      "text/plain": [
       "[(0, 'A', 0.0), (1, 'B', 1.1), (2, 'C', 2.2), (None, None, 3.3)]"
      ]
     },
     "execution_count": 14,
     "metadata": {},
     "output_type": "execute_result"
    }
   ],
   "source": [
    "from itertools import zip_longest\n",
    "\n",
    "list(zip_longest(range(3), 'ABC', [0.0, 1.1, 2.2, 3.3]))"
   ]
  },
  {
   "cell_type": "code",
   "execution_count": 16,
   "metadata": {},
   "outputs": [
    {
     "data": {
      "text/plain": [
       "[(0, 'A', 0.0), (1, 'B', 1.1), (2, 'C', 2.2), (-1, -1, 3.3)]"
      ]
     },
     "execution_count": 16,
     "metadata": {},
     "output_type": "execute_result"
    }
   ],
   "source": [
    "list(zip_longest(range(3), 'ABC', [0.0, 1.1, 2.2, 3.3], \n",
    "                 fillvalue=-1))"
   ]
  }
 ],
 "metadata": {
  "kernelspec": {
   "display_name": "Python 3",
   "language": "python",
   "name": "python3"
  },
  "language_info": {
   "codemirror_mode": {
    "name": "ipython",
    "version": 3
   },
   "file_extension": ".py",
   "mimetype": "text/x-python",
   "name": "python",
   "nbconvert_exporter": "python",
   "pygments_lexer": "ipython3",
   "version": "3.11.3"
  },
  "orig_nbformat": 4
 },
 "nbformat": 4,
 "nbformat_minor": 2
}
